{
 "cells": [
  {
   "cell_type": "markdown",
   "metadata": {},
   "source": [
    "## Partition"
   ]
  },
  {
   "cell_type": "code",
   "execution_count": 11,
   "metadata": {},
   "outputs": [],
   "source": [
    "use std::cmp::Ordering;\n",
    "\n",
    "fn partition<T>(coll: &mut [T], ord: Ordering) -> usize\n",
    "where\n",
    "    T: Ord,\n",
    "{\n",
    "    let len = coll.len();\n",
    "    let pivot_idx = 0;\n",
    "\n",
    "    coll.swap(pivot_idx, len - 1);  // use index 0 as pivot\n",
    "    let mut p = 0;\n",
    "\n",
    "    for i in 0..len - 1 {\n",
    "        if coll[i].cmp(&coll[len-1]) == ord {\n",
    "            coll.swap(i, p);\n",
    "            p += 1;\n",
    "        }\n",
    "    }\n",
    "\n",
    "    coll.swap(p, len - 1);\n",
    "    p\n",
    "}"
   ]
  },
  {
   "cell_type": "markdown",
   "metadata": {},
   "source": [
    "## Sort"
   ]
  },
  {
   "cell_type": "code",
   "execution_count": 12,
   "metadata": {},
   "outputs": [
    {
     "name": "stdout",
     "output_type": "stream",
     "text": [
      "[1, 2, 3, 4, 5] => [1, 2, 3, 4, 5]\n",
      "[5, 4, 3, 2, 1] => [1, 2, 3, 4, 5]\n",
      "[1, 2, 3, 2, 1] => [1, 1, 2, 2, 3]\n",
      "[1, 1, 1, 3, 3, 3, 2, 2, 2] => [1, 1, 1, 2, 2, 2, 3, 3, 3]\n",
      "[5, 4, 3, 2, 1, 2, 3, 4, 5] => [1, 2, 2, 3, 3, 4, 4, 5, 5]\n",
      "[1, 2, 3, 2, 1, 5, 4, 3, 2] => [1, 1, 2, 2, 2, 3, 3, 4, 5]\n"
     ]
    },
    {
     "data": {
      "text/plain": [
       "()"
      ]
     },
     "execution_count": 12,
     "metadata": {},
     "output_type": "execute_result"
    }
   ],
   "source": [
    "fn sort<T>(coll: &mut [T], ord: Ordering)\n",
    "where\n",
    "    T: Ord,\n",
    "{\n",
    "    let len = coll.len();\n",
    "    if len < 2 {\n",
    "        return;\n",
    "    }\n",
    "\n",
    "    let pivot_idx = partition(coll, ord);\n",
    "    sort(&mut coll[..pivot_idx], ord);\n",
    "    sort(&mut coll[pivot_idx+1..], ord);\n",
    "}\n",
    "\n",
    "\n",
    "let colls = vec![\n",
    "    vec![1,2,3,4,5],\n",
    "    vec![5,4,3,2,1],\n",
    "    vec![1,2,3,2,1],\n",
    "    vec![1,1,1,3,3,3,2,2,2],\n",
    "    vec![5,4,3,2,1,2,3,4,5],\n",
    "    vec![1,2,3,2,1,5,4,3,2],\n",
    "];\n",
    "for mut coll in colls {\n",
    "    let mut after = coll.clone();\n",
    "    sort(&mut after, Ordering::Less);\n",
    "    println!(\"{:?} => {:?}\", coll, after);\n",
    "}"
   ]
  },
  {
   "cell_type": "code",
   "execution_count": null,
   "metadata": {},
   "outputs": [],
   "source": []
  }
 ],
 "metadata": {
  "kernelspec": {
   "display_name": "Rust",
   "language": "rust",
   "name": "rust"
  },
  "language_info": {
   "codemirror_mode": "rust",
   "file_extension": ".rs",
   "mimetype": "text/rust",
   "name": "Rust",
   "pygment_lexer": "rust",
   "version": ""
  }
 },
 "nbformat": 4,
 "nbformat_minor": 4
}
