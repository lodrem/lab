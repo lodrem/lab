{
 "cells": [
  {
   "cell_type": "markdown",
   "metadata": {},
   "source": [
    "# 516. Longest Palindromic Subsequence\n",
    "> https://leetcode.com/problems/longest-palindromic-subsequence/\n",
    "\n",
    "## Solution\n",
    "### Dynamic Programming\n",
    "\n",
    "> f(i, j) = f(i + 1, j - 1) + 2 if s(i) == s(j)  \n",
    "> f(i, j) = max(f(i + 1, j), f(i, j - 1))"
   ]
  },
  {
   "cell_type": "code",
   "execution_count": 1,
   "metadata": {},
   "outputs": [
    {
     "data": {
      "text/plain": [
       "4"
      ]
     },
     "execution_count": 1,
     "metadata": {},
     "output_type": "execute_result"
    }
   ],
   "source": [
    "class Solution {\n",
    "    public int longestPalindromeSubseq(String s) {\n",
    "        final int N = s.length();\n",
    "        final int[][] f = new int[N + 1][N + 1];\n",
    "        for (int j = 0; j < N; j ++) {\n",
    "            f[j][j] = 1;\n",
    "            for (int i = j - 1; i >= 0; i --) {\n",
    "                if (s.charAt(i) == s.charAt(j)) {\n",
    "                    f[i][j] = f[i+1][j-1] + 2;\n",
    "                } else {\n",
    "                    f[i][j] = Math.max(f[i+1][j], f[i][j-1]);\n",
    "                }\n",
    "            }\n",
    "        }\n",
    "        return f[0][N-1];\n",
    "    }\n",
    "}\n",
    "\n",
    "var s = new Solution();\n",
    "s.longestPalindromeSubseq(\"bbbab\");"
   ]
  }
 ],
 "metadata": {
  "kernelspec": {
   "display_name": "Java",
   "language": "java",
   "name": "java"
  },
  "language_info": {
   "codemirror_mode": "java",
   "file_extension": ".jshell",
   "mimetype": "text/x-java-source",
   "name": "Java",
   "pygments_lexer": "java",
   "version": "13.0.2+8"
  }
 },
 "nbformat": 4,
 "nbformat_minor": 4
}
