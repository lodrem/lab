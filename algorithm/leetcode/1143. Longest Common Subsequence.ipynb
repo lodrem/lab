{
 "cells": [
  {
   "cell_type": "markdown",
   "metadata": {},
   "source": [
    "# 1143. Longest Common Subsequence\n",
    "> https://leetcode.com/problems/longest-common-subsequence/\n",
    "\n",
    "## Solution\n",
    "### Dynamic Programming\n",
    "\n",
    "> f[i][j] = \n",
    "> A[i] == B[j] => f[i-1][j-1] + 1  \n",
    "> => max(f[i-1][j], f[i][j-1])"
   ]
  },
  {
   "cell_type": "code",
   "execution_count": 3,
   "metadata": {},
   "outputs": [
    {
     "name": "stdout",
     "output_type": "stream",
     "text": [
      "3\n",
      "3\n",
      "0\n"
     ]
    }
   ],
   "source": [
    "class Solution {\n",
    "    public int longestCommonSubsequence(String text1, String text2) {\n",
    "        final char[] t1 = text1.toCharArray();\n",
    "        final char[] t2 = text2.toCharArray();\n",
    "        final int M = t1.length;\n",
    "        final int N = t2.length;\n",
    "        final int[][] f = new int[M+1][N+1];\n",
    "        for (int i = 1; i <= M; i ++) {\n",
    "            for (int j = 1; j <= N; j ++) {\n",
    "                if (t1[i-1] == t2[j-1]) {\n",
    "                    f[i][j] = f[i-1][j-1] + 1;\n",
    "                } else {\n",
    "                    f[i][j] = Math.max(f[i-1][j], f[i][j-1]);\n",
    "                }\n",
    "            }\n",
    "        }\n",
    "        return f[M][N];\n",
    "    }\n",
    "}\n",
    "\n",
    "var s = new Solution();\n",
    "System.out.println(s.longestCommonSubsequence(\"abcde\", \"ace\"));\n",
    "System.out.println(s.longestCommonSubsequence(\"abc\", \"abc\"));\n",
    "System.out.println(s.longestCommonSubsequence(\"abc\", \"def\"));"
   ]
  }
 ],
 "metadata": {
  "kernelspec": {
   "display_name": "Java",
   "language": "java",
   "name": "java"
  },
  "language_info": {
   "codemirror_mode": "java",
   "file_extension": ".jshell",
   "mimetype": "text/x-java-source",
   "name": "Java",
   "pygments_lexer": "java",
   "version": "13.0.2+8"
  }
 },
 "nbformat": 4,
 "nbformat_minor": 4
}
