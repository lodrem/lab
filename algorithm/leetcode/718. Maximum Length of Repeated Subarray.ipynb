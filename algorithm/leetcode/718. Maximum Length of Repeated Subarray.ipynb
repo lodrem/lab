{
 "cells": [
  {
   "cell_type": "markdown",
   "metadata": {},
   "source": [
    "# 718. Maximum Length of Repeated Subarray\n",
    "> https://leetcode.com/problems/maximum-length-of-repeated-subarray/\n",
    "\n",
    "## Solution\n",
    "### Dynamic Programming\n",
    "\n",
    "> f[i][j] = f[i-1][j-1] + 1 if A[i] == B[j]"
   ]
  },
  {
   "cell_type": "code",
   "execution_count": 7,
   "metadata": {},
   "outputs": [
    {
     "data": {
      "text/plain": [
       "3"
      ]
     },
     "execution_count": 7,
     "metadata": {},
     "output_type": "execute_result"
    }
   ],
   "source": [
    "class Solution {\n",
    "    public int findLength(int[] A, int[] B) {\n",
    "        final int M = A.length;\n",
    "        final int N = B.length;\n",
    "        final int[][] f = new int[M+1][N+1];\n",
    "        int res = 0;\n",
    "        for (int i = 1; i <= M; i ++) {\n",
    "            for (int j = 1; j <= N; j ++) {\n",
    "                if (A[i-1] == B[j-1]) {\n",
    "                    f[i][j] = f[i-1][j-1] + 1;\n",
    "                    if (res < f[i][j]) {\n",
    "                        res = f[i][j];\n",
    "                    }\n",
    "                }\n",
    "            }\n",
    "        }\n",
    "        return res;\n",
    "    }\n",
    "}\n",
    "\n",
    "var s = new Solution();\n",
    "s.findLength(new int[]{1,2,3,2,1}, new int[]{3,2,1,4,7});"
   ]
  }
 ],
 "metadata": {
  "kernelspec": {
   "display_name": "Java",
   "language": "java",
   "name": "java"
  },
  "language_info": {
   "codemirror_mode": "java",
   "file_extension": ".jshell",
   "mimetype": "text/x-java-source",
   "name": "Java",
   "pygments_lexer": "java",
   "version": "13.0.2+8"
  }
 },
 "nbformat": 4,
 "nbformat_minor": 4
}
