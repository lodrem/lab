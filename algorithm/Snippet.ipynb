{
 "cells": [
  {
   "cell_type": "markdown",
   "metadata": {},
   "source": [
    "## Sort"
   ]
  },
  {
   "cell_type": "code",
   "execution_count": 25,
   "metadata": {},
   "outputs": [
    {
     "name": "stdout",
     "output_type": "stream",
     "text": [
      "Before: [1, 2, 3, 4, 5, 6, 7]\n",
      "After: [1, 2, 3, 4, 5, 6, 7]\n",
      "Before: [7, 6, 5, 4, 3, 2, 1]\n",
      "After: [1, 2, 3, 4, 5, 6, 7]\n",
      "Before: [1, 2, 3, 4, 3, 2, 1]\n",
      "After: [1, 1, 2, 2, 3, 3, 4]\n",
      "Before: [4, 3, 2, 1, 2, 3, 4]\n",
      "After: [1, 2, 2, 3, 3, 4, 4]\n",
      "Before: [1, 1, 2, 2, 1, 1, 3]\n",
      "After: [1, 1, 1, 1, 2, 2, 3]\n",
      "Before: [1, 1, 1, 2, 2, 2, 3]\n",
      "After: [1, 1, 1, 2, 2, 2, 3]\n"
     ]
    }
   ],
   "source": [
    "class QuickSort {\n",
    "    private void swap(int[] coll, int i, int j) {\n",
    "        final int t = coll[i];\n",
    "        coll[i] = coll[j];\n",
    "        coll[j] = t;\n",
    "    }\n",
    "\n",
    "    private int partition(int[] coll, int l, int r) {\n",
    "        final int pivotIdx = l;\n",
    "        swap(coll, pivotIdx, r - 1);\n",
    "        int p = l;\n",
    "        for (int i = l; i < r - 1; i ++) {\n",
    "            if (coll[i] < coll[r - 1]) {\n",
    "                swap(coll, i, p);\n",
    "                p ++;\n",
    "            }\n",
    "        }\n",
    "        swap(coll, p, r - 1);\n",
    "        return p;\n",
    "    }\n",
    "\n",
    "    public void sort(int[] coll, int l, int r) {\n",
    "        if (r - l <= 1) {\n",
    "            return;\n",
    "        }\n",
    "        final int pivotIdx = partition(coll, l, r);\n",
    "        sort(coll, l, pivotIdx);\n",
    "        sort(coll, pivotIdx+1, r);\n",
    "    }\n",
    "\n",
    "    public void sort(int[] coll) {\n",
    "        sort(coll, 0, coll.length);\n",
    "    }\n",
    "}\n",
    "\n",
    "var s = new QuickSort();\n",
    "var cases = Arrays.asList(\n",
    "    new int[]{1,2,3,4,5,6,7},\n",
    "    new int[]{7,6,5,4,3,2,1},\n",
    "    new int[]{1,2,3,4,3,2,1},\n",
    "    new int[]{4,3,2,1,2,3,4},\n",
    "    new int[]{1,1,2,2,1,1,3},\n",
    "    new int[]{1,1,1,2,2,2,3}\n",
    ");\n",
    "for (int[] c : cases) {\n",
    "    System.out.println(\"Before: \" + Arrays.toString(c));\n",
    "    s.sort(c);\n",
    "    System.out.println(\"After: \" + Arrays.toString(c));\n",
    "}"
   ]
  },
  {
   "cell_type": "markdown",
   "metadata": {},
   "source": [
    "## KMP"
   ]
  },
  {
   "cell_type": "code",
   "execution_count": 28,
   "metadata": {},
   "outputs": [
    {
     "name": "stdout",
     "output_type": "stream",
     "text": [
      "abc : bc -> [1]\n",
      "abcdabcd : abc -> [0, 4]\n",
      "aaaaaa : aa -> [0, 1, 2, 3, 4]\n",
      "aaaaaaa : a -> [0, 1, 2, 3, 4, 5, 6]\n",
      "abcd : abc -> [0]\n"
     ]
    }
   ],
   "source": [
    "class KMP {\n",
    "    private int[] genPMT(String pattern) {\n",
    "        final char[] p = pattern.toCharArray();\n",
    "        final int N = p.length;\n",
    "        final int[] f= new int[N];\n",
    "\n",
    "        for (int i = 1; i < N; i ++) {\n",
    "            int t = f[i - 1];\n",
    "            while (t > 0 && f[i] != f[t]) {\n",
    "                t = f[t - 1];\n",
    "            }\n",
    "            if (f[i] == f[t]) {\n",
    "                t ++;\n",
    "            }\n",
    "            f[i] = t;\n",
    "        }\n",
    "        return f;\n",
    "    }\n",
    "\n",
    "    public int[] search(String str, String pattern) {\n",
    "        final int[] t = genPMT(pattern);\n",
    "        final char[] s = str.toCharArray();\n",
    "        final char[] p = pattern.toCharArray();\n",
    "\n",
    "        final List<Integer> res = new ArrayList<>();\n",
    "        int i = 0;\n",
    "        int j = 0;\n",
    "        while (i < s.length) {\n",
    "            if (s[i] == p[j]) {\n",
    "                i ++;\n",
    "                j ++;\n",
    "            }\n",
    "            if (j == p.length) {\n",
    "                res.add(i - j);\n",
    "                j = t[j - 1];\n",
    "            } else if (i < s.length && s[i] != p[j]) {\n",
    "                if (j != 0) {\n",
    "                    j = t[j - 1];\n",
    "                } else {\n",
    "                    i ++;\n",
    "                }\n",
    "            }\n",
    "        }\n",
    "        final int[] r = new int[res.size()];\n",
    "        for (int k = 0; k < res.size(); k ++) {\n",
    "            r[k] = res.get(k);\n",
    "        }\n",
    "        return r;\n",
    "    }\n",
    "}\n",
    "\n",
    "var kmp = new KMP();\n",
    "var cases = Map.of(\n",
    "    \"abcd\", \"abc\",\n",
    "    \"abcdabcd\", \"abc\",\n",
    "    \"abc\", \"bc\",\n",
    "    \"aaaaaa\", \"aa\",\n",
    "    \"aaaaaaa\", \"a\"\n",
    ");\n",
    "for (var c : cases.entrySet()) {\n",
    "    final String s = c.getKey();\n",
    "    final String p = c.getValue();\n",
    "    System.out.printf(\"%s : %s -> %s\\n\", s, p, Arrays.toString(kmp.search(s, p)));\n",
    "}"
   ]
  },
  {
   "cell_type": "code",
   "execution_count": null,
   "metadata": {},
   "outputs": [],
   "source": []
  }
 ],
 "metadata": {
  "kernelspec": {
   "display_name": "Java",
   "language": "java",
   "name": "java"
  },
  "language_info": {
   "codemirror_mode": "java",
   "file_extension": ".jshell",
   "mimetype": "text/x-java-source",
   "name": "Java",
   "pygments_lexer": "java",
   "version": "13.0.2+8"
  }
 },
 "nbformat": 4,
 "nbformat_minor": 4
}
