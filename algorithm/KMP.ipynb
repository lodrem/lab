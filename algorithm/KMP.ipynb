{
 "cells": [
  {
   "cell_type": "markdown",
   "metadata": {},
   "source": [
    "## Generate partial match table"
   ]
  },
  {
   "cell_type": "code",
   "execution_count": 30,
   "metadata": {},
   "outputs": [
    {
     "name": "stdout",
     "output_type": "stream",
     "text": [
      "abc = [0, 0, 0]\n",
      "abcabc = [0, 0, 0, 1, 2, 3]\n",
      "aaaa = [0, 1, 2, 3]\n",
      "abcabcd = [0, 0, 0, 1, 2, 3, 0]\n"
     ]
    },
    {
     "data": {
      "text/plain": [
       "()"
      ]
     },
     "execution_count": 30,
     "metadata": {},
     "output_type": "execute_result"
    }
   ],
   "source": [
    "fn gen_pmt(p: &str) -> Vec<usize> {\n",
    "    let p = p.as_bytes();\n",
    "    let n = s.len();\n",
    "    let mut f = vec![0; n];\n",
    "    for i in 1..n {\n",
    "        let mut t = f[i - 1];\n",
    "        while t > 0 && p[i] != p[t] {\n",
    "            t = f[t - 1];\n",
    "        }\n",
    "        if p[i] == p[t] {\n",
    "            t += 1;\n",
    "        }\n",
    "        f[i] = t;\n",
    "    }\n",
    "    f\n",
    "}\n",
    "\n",
    "let s = vec![\"abc\", \"abcabc\", \"aaaa\", \"abcabcd\"];\n",
    "\n",
    "for c in s {\n",
    "    println!(\"{} = {:?}\", c, gen_pmt(&c));\n",
    "}"
   ]
  },
  {
   "cell_type": "markdown",
   "metadata": {},
   "source": [
    "## Search"
   ]
  },
  {
   "cell_type": "code",
   "execution_count": 37,
   "metadata": {},
   "outputs": [
    {
     "name": "stdout",
     "output_type": "stream",
     "text": [
      "abcabc search ab = [0, 3]\n",
      "abc search bc = [1]\n",
      "aaaa search aa = [0, 1, 2]\n",
      "abc search cba = []\n"
     ]
    },
    {
     "data": {
      "text/plain": [
       "()"
      ]
     },
     "execution_count": 37,
     "metadata": {},
     "output_type": "execute_result"
    }
   ],
   "source": [
    "fn search(s: &str, p: &str) -> Vec<usize> {\n",
    "    let t = gen_pmt(p);\n",
    "    let s = s.as_bytes();\n",
    "    let p = p.as_bytes();\n",
    "\n",
    "    let mut i = 0;\n",
    "    let mut j = 0;\n",
    "    let mut res = vec![];\n",
    "\n",
    "    while i < s.len() {\n",
    "        if s[i] == p[j] {\n",
    "            i += 1;\n",
    "            j += 1;\n",
    "        }\n",
    "        if j == p.len() {\n",
    "            res.push(i - j);\n",
    "            j = t[j - 1];\n",
    "        } else if i < s.len() && s[i] != p[j] {\n",
    "            if j != 0 {\n",
    "                j = t[j - 1];\n",
    "            } else {\n",
    "                i += 1;\n",
    "            }\n",
    "        }\n",
    "    }\n",
    "    res\n",
    "}\n",
    "\n",
    "let cases = vec![(\"abcabc\", \"ab\"), (\"abc\", \"bc\"), (\"aaaa\", \"aa\"), (\"abc\", \"cba\")];\n",
    "\n",
    "for (s, p) in cases {\n",
    "    println!(\"{} search {} = {:?}\", s, p, search(s, p));\n",
    "}"
   ]
  },
  {
   "cell_type": "code",
   "execution_count": null,
   "metadata": {},
   "outputs": [],
   "source": []
  }
 ],
 "metadata": {
  "kernelspec": {
   "display_name": "Rust",
   "language": "rust",
   "name": "rust"
  },
  "language_info": {
   "codemirror_mode": "rust",
   "file_extension": ".rs",
   "mimetype": "text/rust",
   "name": "Rust",
   "pygment_lexer": "rust",
   "version": ""
  }
 },
 "nbformat": 4,
 "nbformat_minor": 4
}
